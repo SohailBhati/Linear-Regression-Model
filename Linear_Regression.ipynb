{
  "metadata": {
    "kernelspec": {
      "language": "python",
      "display_name": "Python 3",
      "name": "python3"
    },
    "language_info": {
      "name": "python",
      "version": "3.10.12",
      "mimetype": "text/x-python",
      "codemirror_mode": {
        "name": "ipython",
        "version": 3
      },
      "pygments_lexer": "ipython3",
      "nbconvert_exporter": "python",
      "file_extension": ".py"
    },
    "kaggle": {
      "accelerator": "none",
      "dataSources": [
        {
          "sourceId": 3416833,
          "sourceType": "datasetVersion",
          "datasetId": 2059492
        }
      ],
      "dockerImageVersionId": 30822,
      "isInternetEnabled": true,
      "language": "python",
      "sourceType": "notebook",
      "isGpuEnabled": false
    },
    "colab": {
      "name": "Linear Regression",
      "provenance": [],
      "include_colab_link": true
    }
  },
  "nbformat_minor": 0,
  "nbformat": 4,
  "cells": [
    {
      "cell_type": "markdown",
      "metadata": {
        "id": "view-in-github",
        "colab_type": "text"
      },
      "source": [
        "<a href=\"https://colab.research.google.com/github/SohailBhati/Linear-Regression-Model/blob/main/Linear_Regression.ipynb\" target=\"_parent\"><img src=\"https://colab.research.google.com/assets/colab-badge.svg\" alt=\"Open In Colab\"/></a>"
      ]
    },
    {
      "cell_type": "code",
      "source": [
        "import pandas as pd\n",
        "import numpy as np\n",
        "import matplotlib.pyplot as plt\n",
        "from sklearn.model_selection import train_test_split\n",
        "from sklearn.linear_model import LinearRegression\n",
        "from sklearn.metrics import mean_squared_error, r2_score"
      ],
      "metadata": {
        "_uuid": "8f2839f25d086af736a60e9eeb907d3b93b6e0e5",
        "_cell_guid": "b1076dfc-b9ad-4769-8c92-a6c4dae69d19",
        "trusted": true,
        "execution": {
          "iopub.status.busy": "2025-01-05T13:10:36.223505Z",
          "iopub.execute_input": "2025-01-05T13:10:36.223966Z",
          "iopub.status.idle": "2025-01-05T13:10:37.378454Z",
          "shell.execute_reply.started": "2025-01-05T13:10:36.223928Z",
          "shell.execute_reply": "2025-01-05T13:10:37.377223Z"
        },
        "id": "zAehRgIQJkUp"
      },
      "outputs": [],
      "execution_count": null
    },
    {
      "cell_type": "code",
      "source": [
        "data = pd.read_csv(\"/kaggle/input/2022-fuel-consumption-ratings/MY2022 Fuel Consumption Ratings.csv\")"
      ],
      "metadata": {
        "trusted": true,
        "execution": {
          "iopub.status.busy": "2025-01-05T13:10:39.472203Z",
          "iopub.execute_input": "2025-01-05T13:10:39.472695Z",
          "iopub.status.idle": "2025-01-05T13:10:39.503981Z",
          "shell.execute_reply.started": "2025-01-05T13:10:39.472663Z",
          "shell.execute_reply": "2025-01-05T13:10:39.50287Z"
        },
        "id": "hutNUnfCJkUq"
      },
      "outputs": [],
      "execution_count": null
    },
    {
      "cell_type": "code",
      "source": [
        "data.head()"
      ],
      "metadata": {
        "trusted": true,
        "execution": {
          "iopub.status.busy": "2025-01-05T13:10:40.852981Z",
          "iopub.execute_input": "2025-01-05T13:10:40.853364Z",
          "iopub.status.idle": "2025-01-05T13:10:40.880517Z",
          "shell.execute_reply.started": "2025-01-05T13:10:40.853334Z",
          "shell.execute_reply": "2025-01-05T13:10:40.879252Z"
        },
        "id": "pfXe90BZJkUr",
        "outputId": "a28d9433-e15a-41da-fc27-284bc36e2396"
      },
      "outputs": [
        {
          "execution_count": 3,
          "output_type": "execute_result",
          "data": {
            "text/plain": "   Model Year   Make              Model Vehicle Class  Engine Size(L)  \\\n0        2022  Acura                ILX       Compact             2.4   \n1        2022  Acura         MDX SH-AWD    SUV: Small             3.5   \n2        2022  Acura         RDX SH-AWD    SUV: Small             2.0   \n3        2022  Acura  RDX SH-AWD A-SPEC    SUV: Small             2.0   \n4        2022  Acura         TLX SH-AWD       Compact             2.0   \n\n   Cylinders Transmission Fuel Type  Fuel Consumption (City (L/100 km)  \\\n0          4          AM8         Z                                9.9   \n1          6         AS10         Z                               12.6   \n2          4         AS10         Z                               11.0   \n3          4         AS10         Z                               11.3   \n4          4         AS10         Z                               11.2   \n\n   Fuel Consumption(Hwy (L/100 km))  Fuel Consumption(Comb (L/100 km))  \\\n0                               7.0                                8.6   \n1                               9.4                               11.2   \n2                               8.6                                9.9   \n3                               9.1                               10.3   \n4                               8.0                                9.8   \n\n   Fuel Consumption(Comb (mpg))  CO2 Emissions(g/km)  CO2 Rating  Smog Rating  \n0                            33                  200           6            3  \n1                            25                  263           4            5  \n2                            29                  232           5            6  \n3                            27                  242           5            6  \n4                            29                  230           5            7  ",
            "text/html": "<div>\n<style scoped>\n    .dataframe tbody tr th:only-of-type {\n        vertical-align: middle;\n    }\n\n    .dataframe tbody tr th {\n        vertical-align: top;\n    }\n\n    .dataframe thead th {\n        text-align: right;\n    }\n</style>\n<table border=\"1\" class=\"dataframe\">\n  <thead>\n    <tr style=\"text-align: right;\">\n      <th></th>\n      <th>Model Year</th>\n      <th>Make</th>\n      <th>Model</th>\n      <th>Vehicle Class</th>\n      <th>Engine Size(L)</th>\n      <th>Cylinders</th>\n      <th>Transmission</th>\n      <th>Fuel Type</th>\n      <th>Fuel Consumption (City (L/100 km)</th>\n      <th>Fuel Consumption(Hwy (L/100 km))</th>\n      <th>Fuel Consumption(Comb (L/100 km))</th>\n      <th>Fuel Consumption(Comb (mpg))</th>\n      <th>CO2 Emissions(g/km)</th>\n      <th>CO2 Rating</th>\n      <th>Smog Rating</th>\n    </tr>\n  </thead>\n  <tbody>\n    <tr>\n      <th>0</th>\n      <td>2022</td>\n      <td>Acura</td>\n      <td>ILX</td>\n      <td>Compact</td>\n      <td>2.4</td>\n      <td>4</td>\n      <td>AM8</td>\n      <td>Z</td>\n      <td>9.9</td>\n      <td>7.0</td>\n      <td>8.6</td>\n      <td>33</td>\n      <td>200</td>\n      <td>6</td>\n      <td>3</td>\n    </tr>\n    <tr>\n      <th>1</th>\n      <td>2022</td>\n      <td>Acura</td>\n      <td>MDX SH-AWD</td>\n      <td>SUV: Small</td>\n      <td>3.5</td>\n      <td>6</td>\n      <td>AS10</td>\n      <td>Z</td>\n      <td>12.6</td>\n      <td>9.4</td>\n      <td>11.2</td>\n      <td>25</td>\n      <td>263</td>\n      <td>4</td>\n      <td>5</td>\n    </tr>\n    <tr>\n      <th>2</th>\n      <td>2022</td>\n      <td>Acura</td>\n      <td>RDX SH-AWD</td>\n      <td>SUV: Small</td>\n      <td>2.0</td>\n      <td>4</td>\n      <td>AS10</td>\n      <td>Z</td>\n      <td>11.0</td>\n      <td>8.6</td>\n      <td>9.9</td>\n      <td>29</td>\n      <td>232</td>\n      <td>5</td>\n      <td>6</td>\n    </tr>\n    <tr>\n      <th>3</th>\n      <td>2022</td>\n      <td>Acura</td>\n      <td>RDX SH-AWD A-SPEC</td>\n      <td>SUV: Small</td>\n      <td>2.0</td>\n      <td>4</td>\n      <td>AS10</td>\n      <td>Z</td>\n      <td>11.3</td>\n      <td>9.1</td>\n      <td>10.3</td>\n      <td>27</td>\n      <td>242</td>\n      <td>5</td>\n      <td>6</td>\n    </tr>\n    <tr>\n      <th>4</th>\n      <td>2022</td>\n      <td>Acura</td>\n      <td>TLX SH-AWD</td>\n      <td>Compact</td>\n      <td>2.0</td>\n      <td>4</td>\n      <td>AS10</td>\n      <td>Z</td>\n      <td>11.2</td>\n      <td>8.0</td>\n      <td>9.8</td>\n      <td>29</td>\n      <td>230</td>\n      <td>5</td>\n      <td>7</td>\n    </tr>\n  </tbody>\n</table>\n</div>"
          },
          "metadata": {}
        }
      ],
      "execution_count": null
    },
    {
      "cell_type": "code",
      "source": [
        "data.shape"
      ],
      "metadata": {
        "trusted": true,
        "execution": {
          "iopub.status.busy": "2025-01-05T13:10:42.851053Z",
          "iopub.execute_input": "2025-01-05T13:10:42.851405Z",
          "iopub.status.idle": "2025-01-05T13:10:42.85796Z",
          "shell.execute_reply.started": "2025-01-05T13:10:42.851379Z",
          "shell.execute_reply": "2025-01-05T13:10:42.856485Z"
        },
        "id": "s-QHxZQgJkUs",
        "outputId": "ff1061e1-b6e4-4968-edb0-35d6a1669cfd"
      },
      "outputs": [
        {
          "execution_count": 4,
          "output_type": "execute_result",
          "data": {
            "text/plain": "(946, 15)"
          },
          "metadata": {}
        }
      ],
      "execution_count": null
    },
    {
      "cell_type": "code",
      "source": [
        "feature = 'Engine Size(L)'\n",
        "target = 'CO2 Emissions(g/km)'"
      ],
      "metadata": {
        "trusted": true,
        "execution": {
          "iopub.status.busy": "2025-01-05T13:10:44.86106Z",
          "iopub.execute_input": "2025-01-05T13:10:44.861419Z",
          "iopub.status.idle": "2025-01-05T13:10:44.866077Z",
          "shell.execute_reply.started": "2025-01-05T13:10:44.861388Z",
          "shell.execute_reply": "2025-01-05T13:10:44.864896Z"
        },
        "id": "Uzaxhi3KJkUt"
      },
      "outputs": [],
      "execution_count": null
    },
    {
      "cell_type": "code",
      "source": [
        "data = data[[feature,target]].dropna()"
      ],
      "metadata": {
        "trusted": true,
        "execution": {
          "iopub.status.busy": "2025-01-05T13:10:46.305808Z",
          "iopub.execute_input": "2025-01-05T13:10:46.306208Z",
          "iopub.status.idle": "2025-01-05T13:10:46.320687Z",
          "shell.execute_reply.started": "2025-01-05T13:10:46.306176Z",
          "shell.execute_reply": "2025-01-05T13:10:46.319677Z"
        },
        "id": "wYpYrxocJkUu"
      },
      "outputs": [],
      "execution_count": null
    },
    {
      "cell_type": "code",
      "source": [
        "data"
      ],
      "metadata": {
        "trusted": true,
        "execution": {
          "iopub.status.busy": "2025-01-05T13:10:47.322104Z",
          "iopub.execute_input": "2025-01-05T13:10:47.322442Z",
          "iopub.status.idle": "2025-01-05T13:10:47.334673Z",
          "shell.execute_reply.started": "2025-01-05T13:10:47.322413Z",
          "shell.execute_reply": "2025-01-05T13:10:47.333427Z"
        },
        "id": "fh2LlbgAJkUw",
        "outputId": "413c4d25-92e9-4652-ab1b-809be3ccd724"
      },
      "outputs": [
        {
          "execution_count": 7,
          "output_type": "execute_result",
          "data": {
            "text/plain": "     Engine Size(L)  CO2 Emissions(g/km)\n0               2.4                  200\n1               3.5                  263\n2               2.0                  232\n3               2.0                  242\n4               2.0                  230\n..              ...                  ...\n941             2.0                  219\n942             2.0                  219\n943             2.0                  232\n944             2.0                  236\n945             2.0                  252\n\n[946 rows x 2 columns]",
            "text/html": "<div>\n<style scoped>\n    .dataframe tbody tr th:only-of-type {\n        vertical-align: middle;\n    }\n\n    .dataframe tbody tr th {\n        vertical-align: top;\n    }\n\n    .dataframe thead th {\n        text-align: right;\n    }\n</style>\n<table border=\"1\" class=\"dataframe\">\n  <thead>\n    <tr style=\"text-align: right;\">\n      <th></th>\n      <th>Engine Size(L)</th>\n      <th>CO2 Emissions(g/km)</th>\n    </tr>\n  </thead>\n  <tbody>\n    <tr>\n      <th>0</th>\n      <td>2.4</td>\n      <td>200</td>\n    </tr>\n    <tr>\n      <th>1</th>\n      <td>3.5</td>\n      <td>263</td>\n    </tr>\n    <tr>\n      <th>2</th>\n      <td>2.0</td>\n      <td>232</td>\n    </tr>\n    <tr>\n      <th>3</th>\n      <td>2.0</td>\n      <td>242</td>\n    </tr>\n    <tr>\n      <th>4</th>\n      <td>2.0</td>\n      <td>230</td>\n    </tr>\n    <tr>\n      <th>...</th>\n      <td>...</td>\n      <td>...</td>\n    </tr>\n    <tr>\n      <th>941</th>\n      <td>2.0</td>\n      <td>219</td>\n    </tr>\n    <tr>\n      <th>942</th>\n      <td>2.0</td>\n      <td>219</td>\n    </tr>\n    <tr>\n      <th>943</th>\n      <td>2.0</td>\n      <td>232</td>\n    </tr>\n    <tr>\n      <th>944</th>\n      <td>2.0</td>\n      <td>236</td>\n    </tr>\n    <tr>\n      <th>945</th>\n      <td>2.0</td>\n      <td>252</td>\n    </tr>\n  </tbody>\n</table>\n<p>946 rows × 2 columns</p>\n</div>"
          },
          "metadata": {}
        }
      ],
      "execution_count": null
    },
    {
      "cell_type": "code",
      "source": [
        "X = data[[feature]]\n",
        "y = data[target]"
      ],
      "metadata": {
        "trusted": true,
        "execution": {
          "iopub.status.busy": "2025-01-05T13:15:09.422196Z",
          "iopub.execute_input": "2025-01-05T13:15:09.422561Z",
          "iopub.status.idle": "2025-01-05T13:15:09.429299Z",
          "shell.execute_reply.started": "2025-01-05T13:15:09.422532Z",
          "shell.execute_reply": "2025-01-05T13:15:09.427479Z"
        },
        "id": "Nx0mHUtlJkUw"
      },
      "outputs": [],
      "execution_count": null
    },
    {
      "cell_type": "code",
      "source": [
        "X_train, X_test, y_train, y_test = train_test_split(X, y, test_size=0.2, random_state=42)"
      ],
      "metadata": {
        "trusted": true,
        "execution": {
          "iopub.status.busy": "2025-01-05T13:15:11.946848Z",
          "iopub.execute_input": "2025-01-05T13:15:11.947233Z",
          "iopub.status.idle": "2025-01-05T13:15:11.95594Z",
          "shell.execute_reply.started": "2025-01-05T13:15:11.947202Z",
          "shell.execute_reply": "2025-01-05T13:15:11.954652Z"
        },
        "id": "JHYaN_IWJkUx"
      },
      "outputs": [],
      "execution_count": null
    },
    {
      "cell_type": "code",
      "source": [
        "model = LinearRegression()\n",
        "model.fit(X_train, y_train)"
      ],
      "metadata": {
        "trusted": true,
        "execution": {
          "iopub.status.busy": "2025-01-05T13:15:15.418331Z",
          "iopub.execute_input": "2025-01-05T13:15:15.418686Z",
          "iopub.status.idle": "2025-01-05T13:15:15.447454Z",
          "shell.execute_reply.started": "2025-01-05T13:15:15.418656Z",
          "shell.execute_reply": "2025-01-05T13:15:15.446169Z"
        },
        "id": "Ini6EA8iJkUx",
        "outputId": "6d913033-2119-4130-9d92-2011614a2b5c"
      },
      "outputs": [
        {
          "execution_count": 17,
          "output_type": "execute_result",
          "data": {
            "text/plain": "LinearRegression()",
            "text/html": "<style>#sk-container-id-1 {color: black;background-color: white;}#sk-container-id-1 pre{padding: 0;}#sk-container-id-1 div.sk-toggleable {background-color: white;}#sk-container-id-1 label.sk-toggleable__label {cursor: pointer;display: block;width: 100%;margin-bottom: 0;padding: 0.3em;box-sizing: border-box;text-align: center;}#sk-container-id-1 label.sk-toggleable__label-arrow:before {content: \"▸\";float: left;margin-right: 0.25em;color: #696969;}#sk-container-id-1 label.sk-toggleable__label-arrow:hover:before {color: black;}#sk-container-id-1 div.sk-estimator:hover label.sk-toggleable__label-arrow:before {color: black;}#sk-container-id-1 div.sk-toggleable__content {max-height: 0;max-width: 0;overflow: hidden;text-align: left;background-color: #f0f8ff;}#sk-container-id-1 div.sk-toggleable__content pre {margin: 0.2em;color: black;border-radius: 0.25em;background-color: #f0f8ff;}#sk-container-id-1 input.sk-toggleable__control:checked~div.sk-toggleable__content {max-height: 200px;max-width: 100%;overflow: auto;}#sk-container-id-1 input.sk-toggleable__control:checked~label.sk-toggleable__label-arrow:before {content: \"▾\";}#sk-container-id-1 div.sk-estimator input.sk-toggleable__control:checked~label.sk-toggleable__label {background-color: #d4ebff;}#sk-container-id-1 div.sk-label input.sk-toggleable__control:checked~label.sk-toggleable__label {background-color: #d4ebff;}#sk-container-id-1 input.sk-hidden--visually {border: 0;clip: rect(1px 1px 1px 1px);clip: rect(1px, 1px, 1px, 1px);height: 1px;margin: -1px;overflow: hidden;padding: 0;position: absolute;width: 1px;}#sk-container-id-1 div.sk-estimator {font-family: monospace;background-color: #f0f8ff;border: 1px dotted black;border-radius: 0.25em;box-sizing: border-box;margin-bottom: 0.5em;}#sk-container-id-1 div.sk-estimator:hover {background-color: #d4ebff;}#sk-container-id-1 div.sk-parallel-item::after {content: \"\";width: 100%;border-bottom: 1px solid gray;flex-grow: 1;}#sk-container-id-1 div.sk-label:hover label.sk-toggleable__label {background-color: #d4ebff;}#sk-container-id-1 div.sk-serial::before {content: \"\";position: absolute;border-left: 1px solid gray;box-sizing: border-box;top: 0;bottom: 0;left: 50%;z-index: 0;}#sk-container-id-1 div.sk-serial {display: flex;flex-direction: column;align-items: center;background-color: white;padding-right: 0.2em;padding-left: 0.2em;position: relative;}#sk-container-id-1 div.sk-item {position: relative;z-index: 1;}#sk-container-id-1 div.sk-parallel {display: flex;align-items: stretch;justify-content: center;background-color: white;position: relative;}#sk-container-id-1 div.sk-item::before, #sk-container-id-1 div.sk-parallel-item::before {content: \"\";position: absolute;border-left: 1px solid gray;box-sizing: border-box;top: 0;bottom: 0;left: 50%;z-index: -1;}#sk-container-id-1 div.sk-parallel-item {display: flex;flex-direction: column;z-index: 1;position: relative;background-color: white;}#sk-container-id-1 div.sk-parallel-item:first-child::after {align-self: flex-end;width: 50%;}#sk-container-id-1 div.sk-parallel-item:last-child::after {align-self: flex-start;width: 50%;}#sk-container-id-1 div.sk-parallel-item:only-child::after {width: 0;}#sk-container-id-1 div.sk-dashed-wrapped {border: 1px dashed gray;margin: 0 0.4em 0.5em 0.4em;box-sizing: border-box;padding-bottom: 0.4em;background-color: white;}#sk-container-id-1 div.sk-label label {font-family: monospace;font-weight: bold;display: inline-block;line-height: 1.2em;}#sk-container-id-1 div.sk-label-container {text-align: center;}#sk-container-id-1 div.sk-container {/* jupyter's `normalize.less` sets `[hidden] { display: none; }` but bootstrap.min.css set `[hidden] { display: none !important; }` so we also need the `!important` here to be able to override the default hidden behavior on the sphinx rendered scikit-learn.org. See: https://github.com/scikit-learn/scikit-learn/issues/21755 */display: inline-block !important;position: relative;}#sk-container-id-1 div.sk-text-repr-fallback {display: none;}</style><div id=\"sk-container-id-1\" class=\"sk-top-container\"><div class=\"sk-text-repr-fallback\"><pre>LinearRegression()</pre><b>In a Jupyter environment, please rerun this cell to show the HTML representation or trust the notebook. <br />On GitHub, the HTML representation is unable to render, please try loading this page with nbviewer.org.</b></div><div class=\"sk-container\" hidden><div class=\"sk-item\"><div class=\"sk-estimator sk-toggleable\"><input class=\"sk-toggleable__control sk-hidden--visually\" id=\"sk-estimator-id-1\" type=\"checkbox\" checked><label for=\"sk-estimator-id-1\" class=\"sk-toggleable__label sk-toggleable__label-arrow\">LinearRegression</label><div class=\"sk-toggleable__content\"><pre>LinearRegression()</pre></div></div></div></div></div>"
          },
          "metadata": {}
        }
      ],
      "execution_count": null
    },
    {
      "cell_type": "code",
      "source": [
        "y_pred = model.predict(X_test)\n",
        "mse = mean_squared_error(y_test, y_pred)\n",
        "r2 = r2_score(y_test, y_pred)"
      ],
      "metadata": {
        "trusted": true,
        "execution": {
          "iopub.status.busy": "2025-01-05T13:15:52.274723Z",
          "iopub.execute_input": "2025-01-05T13:15:52.275356Z",
          "iopub.status.idle": "2025-01-05T13:15:52.283643Z",
          "shell.execute_reply.started": "2025-01-05T13:15:52.275312Z",
          "shell.execute_reply": "2025-01-05T13:15:52.282076Z"
        },
        "id": "BRu_vP-5JkUy"
      },
      "outputs": [],
      "execution_count": null
    },
    {
      "cell_type": "code",
      "source": [
        "y_pred"
      ],
      "metadata": {
        "trusted": true,
        "execution": {
          "iopub.status.busy": "2025-01-05T13:22:58.192293Z",
          "iopub.execute_input": "2025-01-05T13:22:58.1927Z",
          "iopub.status.idle": "2025-01-05T13:22:58.200701Z",
          "shell.execute_reply.started": "2025-01-05T13:22:58.192663Z",
          "shell.execute_reply": "2025-01-05T13:22:58.199487Z"
        },
        "id": "jxHFWqroJkUy",
        "outputId": "814890a5-c991-4bdd-d300-7c5a46456783"
      },
      "outputs": [
        {
          "execution_count": 24,
          "output_type": "execute_result",
          "data": {
            "text/plain": "array([329.25793762, 251.590952  , 290.42444481, 340.90798546,\n       251.590952  , 274.89104769, 212.7574592 , 290.42444481,\n       212.7574592 , 278.77439697, 271.00769841, 368.09143043,\n       193.34071279, 337.02463618, 212.7574592 , 290.42444481,\n       340.90798546, 329.25793762, 232.1742056 , 271.00769841,\n       232.1742056 , 193.34071279, 290.42444481, 356.44138259,\n       212.7574592 , 212.7574592 , 290.42444481, 197.22406207,\n       212.7574592 , 305.95784194, 197.22406207, 329.25793762,\n       274.89104769, 274.89104769, 263.24099985, 239.94090416,\n       305.95784194, 181.69066495, 356.44138259, 212.7574592 ,\n       251.590952  , 212.7574592 , 251.590952  , 212.7574592 ,\n       290.42444481, 271.00769841, 274.89104769, 271.00769841,\n       212.7574592 , 212.7574592 , 340.90798546, 251.590952  ,\n       340.90798546, 212.7574592 , 340.90798546, 224.40750704,\n       290.42444481, 259.35765057, 271.00769841, 232.1742056 ,\n       356.44138259, 204.99076063, 375.85812899, 271.00769841,\n       251.590952  , 212.7574592 , 212.7574592 , 212.7574592 ,\n       271.00769841, 232.1742056 , 340.90798546, 224.40750704,\n       212.7574592 , 212.7574592 , 239.94090416, 251.590952  ,\n       251.590952  , 251.590952  , 185.57401423, 340.90798546,\n       251.590952  , 251.590952  , 232.1742056 , 232.1742056 ,\n       290.42444481, 228.29085632, 193.34071279, 340.90798546,\n       212.7574592 , 340.90798546, 212.7574592 , 251.590952  ,\n       247.70760272, 232.1742056 , 271.00769841, 271.00769841,\n       204.99076063, 212.7574592 , 251.590952  , 329.25793762,\n       395.2748754 , 251.590952  , 263.24099985, 232.1742056 ,\n       212.7574592 , 212.7574592 , 267.12434913, 239.94090416,\n       375.85812899, 212.7574592 , 228.29085632, 224.40750704,\n       212.7574592 , 212.7574592 , 271.00769841, 251.590952  ,\n       212.7574592 , 340.90798546, 251.590952  , 271.00769841,\n       290.42444481, 224.40750704, 197.22406207, 271.00769841,\n       290.42444481, 383.62482755, 375.85812899, 212.7574592 ,\n       387.50817683, 290.42444481, 247.70760272, 212.7574592 ,\n       232.1742056 , 193.34071279, 232.1742056 , 375.85812899,\n       251.590952  , 251.590952  , 224.40750704, 251.590952  ,\n       329.25793762, 271.00769841, 189.45736351, 212.7574592 ,\n       263.24099985, 329.25793762, 212.7574592 , 274.89104769,\n       251.590952  , 197.22406207, 383.62482755, 212.7574592 ,\n       193.34071279, 305.95784194, 271.00769841, 212.7574592 ,\n       340.90798546, 329.25793762, 251.590952  , 383.62482755,\n       340.90798546, 368.09143043, 185.57401423, 274.89104769,\n       197.22406207, 232.1742056 , 282.65774625, 193.34071279,\n       224.40750704, 251.590952  , 212.7574592 , 251.590952  ,\n       251.590952  , 251.590952  , 340.90798546, 395.2748754 ,\n       232.1742056 , 212.7574592 , 224.40750704, 212.7574592 ,\n       224.40750704, 212.7574592 , 212.7574592 , 212.7574592 ,\n       212.7574592 , 232.1742056 , 212.7574592 , 197.22406207,\n       212.7574592 , 212.7574592 ])"
          },
          "metadata": {}
        }
      ],
      "execution_count": null
    },
    {
      "cell_type": "code",
      "source": [
        "mse"
      ],
      "metadata": {
        "trusted": true,
        "execution": {
          "iopub.status.busy": "2025-01-05T13:16:30.709514Z",
          "iopub.execute_input": "2025-01-05T13:16:30.709952Z",
          "iopub.status.idle": "2025-01-05T13:16:30.716453Z",
          "shell.execute_reply.started": "2025-01-05T13:16:30.709917Z",
          "shell.execute_reply": "2025-01-05T13:16:30.715077Z"
        },
        "id": "k_K6VBX5JkUz",
        "outputId": "19c10103-7c53-4402-c96c-2fcde5077169"
      },
      "outputs": [
        {
          "execution_count": 19,
          "output_type": "execute_result",
          "data": {
            "text/plain": "1273.0010719862173"
          },
          "metadata": {}
        }
      ],
      "execution_count": null
    },
    {
      "cell_type": "code",
      "source": [
        "r2"
      ],
      "metadata": {
        "trusted": true,
        "execution": {
          "iopub.status.busy": "2025-01-05T13:17:08.16767Z",
          "iopub.execute_input": "2025-01-05T13:17:08.168128Z",
          "iopub.status.idle": "2025-01-05T13:17:08.174088Z",
          "shell.execute_reply.started": "2025-01-05T13:17:08.168082Z",
          "shell.execute_reply": "2025-01-05T13:17:08.173003Z"
        },
        "id": "FGen1NPzJkUz",
        "outputId": "0ba8c50a-9b35-49d1-df14-c40bb472abc9"
      },
      "outputs": [
        {
          "execution_count": 21,
          "output_type": "execute_result",
          "data": {
            "text/plain": "0.6820075195225397"
          },
          "metadata": {}
        }
      ],
      "execution_count": null
    },
    {
      "cell_type": "code",
      "source": [
        "plt.figure(figsize=(10, 6))\n",
        "plt.scatter(X_test, y_test, color='blue', label='Actual Data')\n",
        "plt.plot(X_test, y_pred, color='red', linewidth=2, label='Regression Line')\n",
        "plt.title('Linear Regression: Engine Size vs. CO2 Emissions')\n",
        "plt.xlabel('Engine Size (L)')\n",
        "plt.ylabel('CO2 Emissions (g/km)')\n",
        "plt.legend()\n",
        "plt.show()"
      ],
      "metadata": {
        "trusted": true,
        "execution": {
          "iopub.status.busy": "2025-01-05T13:18:10.021801Z",
          "iopub.execute_input": "2025-01-05T13:18:10.022251Z",
          "iopub.status.idle": "2025-01-05T13:18:10.467149Z",
          "shell.execute_reply.started": "2025-01-05T13:18:10.02222Z",
          "shell.execute_reply": "2025-01-05T13:18:10.465984Z"
        },
        "id": "3yW8-n47JkU0",
        "outputId": "9083f459-7f19-4d6a-ceaa-32b6891404fe"
      },
      "outputs": [
        {
          "output_type": "display_data",
          "data": {
            "text/plain": "<Figure size 1000x600 with 1 Axes>",
            "image/png": "[encoded data removed]"
          },
          "metadata": {}
        }
      ],
      "execution_count": null
    },
    {
      "cell_type": "code",
      "source": [],
      "metadata": {
        "trusted": true,
        "id": "3tzaMOEsJkU0"
      },
      "outputs": [],
      "execution_count": null
    }
  ]
}